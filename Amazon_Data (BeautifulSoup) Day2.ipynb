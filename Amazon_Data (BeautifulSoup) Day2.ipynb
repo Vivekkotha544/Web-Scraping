{
  "cells": [
    {
      "cell_type": "markdown",
      "metadata": {
        "id": "view-in-github",
        "colab_type": "text"
      },
      "source": [
        "<a href=\"https://colab.research.google.com/github/Vivekkotha544/Web-Scraping/blob/main/Amazon_Data%20(BeautifulSoup)%20Day2.ipynb\" target=\"_parent\"><img src=\"https://colab.research.google.com/assets/colab-badge.svg\" alt=\"Open In Colab\"/></a>"
      ]
    },
    {
      "cell_type": "markdown",
      "source": [
        ":## The Following File consists of amazon data scraping(Few errors occured)"
      ],
      "metadata": {
        "id": "Sg97IZbBROKk"
      },
      "id": "Sg97IZbBROKk"
    },
    {
      "cell_type": "code",
      "execution_count": null,
      "id": "1e49e3c6",
      "metadata": {
        "id": "1e49e3c6"
      },
      "outputs": [],
      "source": [
        "import bs4\n",
        "from bs4 import BeautifulSoup\n",
        "import requests\n",
        "import pandas as pdcolabsight"
      ]
    },
    {
      "cell_type": "code",
      "execution_count": null,
      "id": "c5b5a849",
      "metadata": {
        "id": "c5b5a849"
      },
      "outputs": [],
      "source": [
        "request = requests.get(\"https://www.amazon.in/s?k=gaming&crid=12C1K6O7AJ6I8&sprefix=gaming%2Caps%2C254&ref=nb_sb_noss_1\")"
      ]
    },
    {
      "cell_type": "code",
      "execution_count": null,
      "id": "0ef47cad",
      "metadata": {
        "id": "0ef47cad",
        "outputId": "2d8c45f8-b97b-4cfa-ee6a-bf0d80ee8e10",
        "colab": {
          "base_uri": "https://localhost:8080/"
        }
      },
      "outputs": [
        {
          "output_type": "stream",
          "name": "stdout",
          "text": [
            "<Response [200]>\n"
          ]
        }
      ],
      "source": [
        "print(request)"
      ]
    },
    {
      "cell_type": "code",
      "execution_count": null,
      "id": "43fc3d4f",
      "metadata": {
        "id": "43fc3d4f"
      },
      "outputs": [],
      "source": [
        "HEADERS ={'Mozilla/5.0 (X11; Linux x86_64) AppleWebKit/537.36 (KHTML, like Gecko) Chrome/120.0.0.0 Safari/537.36'}"
      ]
    },
    {
      "cell_type": "code",
      "execution_count": null,
      "id": "3ea11db8",
      "metadata": {
        "id": "3ea11db8",
        "outputId": "5291ab0c-92ce-4a34-cd21-1bcb98a930e5",
        "colab": {
          "base_uri": "https://localhost:8080/",
          "height": 495
        }
      },
      "outputs": [
        {
          "output_type": "error",
          "ename": "InvalidURL",
          "evalue": "Failed to parse: <Response [200]>",
          "traceback": [
            "\u001b[0;31m---------------------------------------------------------------------------\u001b[0m",
            "\u001b[0;31mAttributeError\u001b[0m                            Traceback (most recent call last)",
            "\u001b[0;32m/usr/local/lib/python3.10/dist-packages/urllib3/util/url.py\u001b[0m in \u001b[0;36mparse_url\u001b[0;34m(url)\u001b[0m\n\u001b[1;32m    424\u001b[0m             \u001b[0mauth\u001b[0m \u001b[0;34m=\u001b[0m \u001b[0mauth\u001b[0m \u001b[0;32mor\u001b[0m \u001b[0;32mNone\u001b[0m\u001b[0;34m\u001b[0m\u001b[0;34m\u001b[0m\u001b[0m\n\u001b[0;32m--> 425\u001b[0;31m             \u001b[0mhost\u001b[0m\u001b[0;34m,\u001b[0m \u001b[0mport\u001b[0m \u001b[0;34m=\u001b[0m \u001b[0m_HOST_PORT_RE\u001b[0m\u001b[0;34m.\u001b[0m\u001b[0mmatch\u001b[0m\u001b[0;34m(\u001b[0m\u001b[0mhost_port\u001b[0m\u001b[0;34m)\u001b[0m\u001b[0;34m.\u001b[0m\u001b[0mgroups\u001b[0m\u001b[0;34m(\u001b[0m\u001b[0;34m)\u001b[0m  \u001b[0;31m# type: ignore[union-attr]\u001b[0m\u001b[0;34m\u001b[0m\u001b[0;34m\u001b[0m\u001b[0m\n\u001b[0m\u001b[1;32m    426\u001b[0m             \u001b[0;32mif\u001b[0m \u001b[0mauth\u001b[0m \u001b[0;32mand\u001b[0m \u001b[0mnormalize_uri\u001b[0m\u001b[0;34m:\u001b[0m\u001b[0;34m\u001b[0m\u001b[0;34m\u001b[0m\u001b[0m\n",
            "\u001b[0;31mAttributeError\u001b[0m: 'NoneType' object has no attribute 'groups'",
            "\nThe above exception was the direct cause of the following exception:\n",
            "\u001b[0;31mLocationParseError\u001b[0m                        Traceback (most recent call last)",
            "\u001b[0;32m/usr/local/lib/python3.10/dist-packages/requests/models.py\u001b[0m in \u001b[0;36mprepare_url\u001b[0;34m(self, url, params)\u001b[0m\n\u001b[1;32m    433\u001b[0m         \u001b[0;32mtry\u001b[0m\u001b[0;34m:\u001b[0m\u001b[0;34m\u001b[0m\u001b[0;34m\u001b[0m\u001b[0m\n\u001b[0;32m--> 434\u001b[0;31m             \u001b[0mscheme\u001b[0m\u001b[0;34m,\u001b[0m \u001b[0mauth\u001b[0m\u001b[0;34m,\u001b[0m \u001b[0mhost\u001b[0m\u001b[0;34m,\u001b[0m \u001b[0mport\u001b[0m\u001b[0;34m,\u001b[0m \u001b[0mpath\u001b[0m\u001b[0;34m,\u001b[0m \u001b[0mquery\u001b[0m\u001b[0;34m,\u001b[0m \u001b[0mfragment\u001b[0m \u001b[0;34m=\u001b[0m \u001b[0mparse_url\u001b[0m\u001b[0;34m(\u001b[0m\u001b[0murl\u001b[0m\u001b[0;34m)\u001b[0m\u001b[0;34m\u001b[0m\u001b[0;34m\u001b[0m\u001b[0m\n\u001b[0m\u001b[1;32m    435\u001b[0m         \u001b[0;32mexcept\u001b[0m \u001b[0mLocationParseError\u001b[0m \u001b[0;32mas\u001b[0m \u001b[0me\u001b[0m\u001b[0;34m:\u001b[0m\u001b[0;34m\u001b[0m\u001b[0;34m\u001b[0m\u001b[0m\n",
            "\u001b[0;32m/usr/local/lib/python3.10/dist-packages/urllib3/util/url.py\u001b[0m in \u001b[0;36mparse_url\u001b[0;34m(url)\u001b[0m\n\u001b[1;32m    450\u001b[0m     \u001b[0;32mexcept\u001b[0m \u001b[0;34m(\u001b[0m\u001b[0mValueError\u001b[0m\u001b[0;34m,\u001b[0m \u001b[0mAttributeError\u001b[0m\u001b[0;34m)\u001b[0m \u001b[0;32mas\u001b[0m \u001b[0me\u001b[0m\u001b[0;34m:\u001b[0m\u001b[0;34m\u001b[0m\u001b[0;34m\u001b[0m\u001b[0m\n\u001b[0;32m--> 451\u001b[0;31m         \u001b[0;32mraise\u001b[0m \u001b[0mLocationParseError\u001b[0m\u001b[0;34m(\u001b[0m\u001b[0msource_url\u001b[0m\u001b[0;34m)\u001b[0m \u001b[0;32mfrom\u001b[0m \u001b[0me\u001b[0m\u001b[0;34m\u001b[0m\u001b[0;34m\u001b[0m\u001b[0m\n\u001b[0m\u001b[1;32m    452\u001b[0m \u001b[0;34m\u001b[0m\u001b[0m\n",
            "\u001b[0;31mLocationParseError\u001b[0m: Failed to parse: <Response [200]>",
            "\nDuring handling of the above exception, another exception occurred:\n",
            "\u001b[0;31mInvalidURL\u001b[0m                                Traceback (most recent call last)",
            "\u001b[0;32m<ipython-input-9-b2e1d0323a02>\u001b[0m in \u001b[0;36m<cell line: 1>\u001b[0;34m()\u001b[0m\n\u001b[0;32m----> 1\u001b[0;31m \u001b[0mwebpage\u001b[0m \u001b[0;34m=\u001b[0m \u001b[0mrequests\u001b[0m\u001b[0;34m.\u001b[0m\u001b[0mget\u001b[0m\u001b[0;34m(\u001b[0m\u001b[0mrequest\u001b[0m\u001b[0;34m,\u001b[0m\u001b[0mheaders\u001b[0m \u001b[0;34m=\u001b[0m \u001b[0mHEADERS\u001b[0m\u001b[0;34m)\u001b[0m\u001b[0;34m\u001b[0m\u001b[0;34m\u001b[0m\u001b[0m\n\u001b[0m",
            "\u001b[0;32m/usr/local/lib/python3.10/dist-packages/requests/api.py\u001b[0m in \u001b[0;36mget\u001b[0;34m(url, params, **kwargs)\u001b[0m\n\u001b[1;32m     71\u001b[0m     \"\"\"\n\u001b[1;32m     72\u001b[0m \u001b[0;34m\u001b[0m\u001b[0m\n\u001b[0;32m---> 73\u001b[0;31m     \u001b[0;32mreturn\u001b[0m \u001b[0mrequest\u001b[0m\u001b[0;34m(\u001b[0m\u001b[0;34m\"get\"\u001b[0m\u001b[0;34m,\u001b[0m \u001b[0murl\u001b[0m\u001b[0;34m,\u001b[0m \u001b[0mparams\u001b[0m\u001b[0;34m=\u001b[0m\u001b[0mparams\u001b[0m\u001b[0;34m,\u001b[0m \u001b[0;34m**\u001b[0m\u001b[0mkwargs\u001b[0m\u001b[0;34m)\u001b[0m\u001b[0;34m\u001b[0m\u001b[0;34m\u001b[0m\u001b[0m\n\u001b[0m\u001b[1;32m     74\u001b[0m \u001b[0;34m\u001b[0m\u001b[0m\n\u001b[1;32m     75\u001b[0m \u001b[0;34m\u001b[0m\u001b[0m\n",
            "\u001b[0;32m/usr/local/lib/python3.10/dist-packages/requests/api.py\u001b[0m in \u001b[0;36mrequest\u001b[0;34m(method, url, **kwargs)\u001b[0m\n\u001b[1;32m     57\u001b[0m     \u001b[0;31m# cases, and look like a memory leak in others.\u001b[0m\u001b[0;34m\u001b[0m\u001b[0;34m\u001b[0m\u001b[0m\n\u001b[1;32m     58\u001b[0m     \u001b[0;32mwith\u001b[0m \u001b[0msessions\u001b[0m\u001b[0;34m.\u001b[0m\u001b[0mSession\u001b[0m\u001b[0;34m(\u001b[0m\u001b[0;34m)\u001b[0m \u001b[0;32mas\u001b[0m \u001b[0msession\u001b[0m\u001b[0;34m:\u001b[0m\u001b[0;34m\u001b[0m\u001b[0;34m\u001b[0m\u001b[0m\n\u001b[0;32m---> 59\u001b[0;31m         \u001b[0;32mreturn\u001b[0m \u001b[0msession\u001b[0m\u001b[0;34m.\u001b[0m\u001b[0mrequest\u001b[0m\u001b[0;34m(\u001b[0m\u001b[0mmethod\u001b[0m\u001b[0;34m=\u001b[0m\u001b[0mmethod\u001b[0m\u001b[0;34m,\u001b[0m \u001b[0murl\u001b[0m\u001b[0;34m=\u001b[0m\u001b[0murl\u001b[0m\u001b[0;34m,\u001b[0m \u001b[0;34m**\u001b[0m\u001b[0mkwargs\u001b[0m\u001b[0;34m)\u001b[0m\u001b[0;34m\u001b[0m\u001b[0;34m\u001b[0m\u001b[0m\n\u001b[0m\u001b[1;32m     60\u001b[0m \u001b[0;34m\u001b[0m\u001b[0m\n\u001b[1;32m     61\u001b[0m \u001b[0;34m\u001b[0m\u001b[0m\n",
            "\u001b[0;32m/usr/local/lib/python3.10/dist-packages/requests/sessions.py\u001b[0m in \u001b[0;36mrequest\u001b[0;34m(self, method, url, params, data, headers, cookies, files, auth, timeout, allow_redirects, proxies, hooks, stream, verify, cert, json)\u001b[0m\n\u001b[1;32m    573\u001b[0m             \u001b[0mhooks\u001b[0m\u001b[0;34m=\u001b[0m\u001b[0mhooks\u001b[0m\u001b[0;34m,\u001b[0m\u001b[0;34m\u001b[0m\u001b[0;34m\u001b[0m\u001b[0m\n\u001b[1;32m    574\u001b[0m         )\n\u001b[0;32m--> 575\u001b[0;31m         \u001b[0mprep\u001b[0m \u001b[0;34m=\u001b[0m \u001b[0mself\u001b[0m\u001b[0;34m.\u001b[0m\u001b[0mprepare_request\u001b[0m\u001b[0;34m(\u001b[0m\u001b[0mreq\u001b[0m\u001b[0;34m)\u001b[0m\u001b[0;34m\u001b[0m\u001b[0;34m\u001b[0m\u001b[0m\n\u001b[0m\u001b[1;32m    576\u001b[0m \u001b[0;34m\u001b[0m\u001b[0m\n\u001b[1;32m    577\u001b[0m         \u001b[0mproxies\u001b[0m \u001b[0;34m=\u001b[0m \u001b[0mproxies\u001b[0m \u001b[0;32mor\u001b[0m \u001b[0;34m{\u001b[0m\u001b[0;34m}\u001b[0m\u001b[0;34m\u001b[0m\u001b[0;34m\u001b[0m\u001b[0m\n",
            "\u001b[0;32m/usr/local/lib/python3.10/dist-packages/requests/sessions.py\u001b[0m in \u001b[0;36mprepare_request\u001b[0;34m(self, request)\u001b[0m\n\u001b[1;32m    484\u001b[0m \u001b[0;34m\u001b[0m\u001b[0m\n\u001b[1;32m    485\u001b[0m         \u001b[0mp\u001b[0m \u001b[0;34m=\u001b[0m \u001b[0mPreparedRequest\u001b[0m\u001b[0;34m(\u001b[0m\u001b[0;34m)\u001b[0m\u001b[0;34m\u001b[0m\u001b[0;34m\u001b[0m\u001b[0m\n\u001b[0;32m--> 486\u001b[0;31m         p.prepare(\n\u001b[0m\u001b[1;32m    487\u001b[0m             \u001b[0mmethod\u001b[0m\u001b[0;34m=\u001b[0m\u001b[0mrequest\u001b[0m\u001b[0;34m.\u001b[0m\u001b[0mmethod\u001b[0m\u001b[0;34m.\u001b[0m\u001b[0mupper\u001b[0m\u001b[0;34m(\u001b[0m\u001b[0;34m)\u001b[0m\u001b[0;34m,\u001b[0m\u001b[0;34m\u001b[0m\u001b[0;34m\u001b[0m\u001b[0m\n\u001b[1;32m    488\u001b[0m             \u001b[0murl\u001b[0m\u001b[0;34m=\u001b[0m\u001b[0mrequest\u001b[0m\u001b[0;34m.\u001b[0m\u001b[0murl\u001b[0m\u001b[0;34m,\u001b[0m\u001b[0;34m\u001b[0m\u001b[0;34m\u001b[0m\u001b[0m\n",
            "\u001b[0;32m/usr/local/lib/python3.10/dist-packages/requests/models.py\u001b[0m in \u001b[0;36mprepare\u001b[0;34m(self, method, url, headers, files, data, params, auth, cookies, hooks, json)\u001b[0m\n\u001b[1;32m    366\u001b[0m \u001b[0;34m\u001b[0m\u001b[0m\n\u001b[1;32m    367\u001b[0m         \u001b[0mself\u001b[0m\u001b[0;34m.\u001b[0m\u001b[0mprepare_method\u001b[0m\u001b[0;34m(\u001b[0m\u001b[0mmethod\u001b[0m\u001b[0;34m)\u001b[0m\u001b[0;34m\u001b[0m\u001b[0;34m\u001b[0m\u001b[0m\n\u001b[0;32m--> 368\u001b[0;31m         \u001b[0mself\u001b[0m\u001b[0;34m.\u001b[0m\u001b[0mprepare_url\u001b[0m\u001b[0;34m(\u001b[0m\u001b[0murl\u001b[0m\u001b[0;34m,\u001b[0m \u001b[0mparams\u001b[0m\u001b[0;34m)\u001b[0m\u001b[0;34m\u001b[0m\u001b[0;34m\u001b[0m\u001b[0m\n\u001b[0m\u001b[1;32m    369\u001b[0m         \u001b[0mself\u001b[0m\u001b[0;34m.\u001b[0m\u001b[0mprepare_headers\u001b[0m\u001b[0;34m(\u001b[0m\u001b[0mheaders\u001b[0m\u001b[0;34m)\u001b[0m\u001b[0;34m\u001b[0m\u001b[0;34m\u001b[0m\u001b[0m\n\u001b[1;32m    370\u001b[0m         \u001b[0mself\u001b[0m\u001b[0;34m.\u001b[0m\u001b[0mprepare_cookies\u001b[0m\u001b[0;34m(\u001b[0m\u001b[0mcookies\u001b[0m\u001b[0;34m)\u001b[0m\u001b[0;34m\u001b[0m\u001b[0;34m\u001b[0m\u001b[0m\n",
            "\u001b[0;32m/usr/local/lib/python3.10/dist-packages/requests/models.py\u001b[0m in \u001b[0;36mprepare_url\u001b[0;34m(self, url, params)\u001b[0m\n\u001b[1;32m    434\u001b[0m             \u001b[0mscheme\u001b[0m\u001b[0;34m,\u001b[0m \u001b[0mauth\u001b[0m\u001b[0;34m,\u001b[0m \u001b[0mhost\u001b[0m\u001b[0;34m,\u001b[0m \u001b[0mport\u001b[0m\u001b[0;34m,\u001b[0m \u001b[0mpath\u001b[0m\u001b[0;34m,\u001b[0m \u001b[0mquery\u001b[0m\u001b[0;34m,\u001b[0m \u001b[0mfragment\u001b[0m \u001b[0;34m=\u001b[0m \u001b[0mparse_url\u001b[0m\u001b[0;34m(\u001b[0m\u001b[0murl\u001b[0m\u001b[0;34m)\u001b[0m\u001b[0;34m\u001b[0m\u001b[0;34m\u001b[0m\u001b[0m\n\u001b[1;32m    435\u001b[0m         \u001b[0;32mexcept\u001b[0m \u001b[0mLocationParseError\u001b[0m \u001b[0;32mas\u001b[0m \u001b[0me\u001b[0m\u001b[0;34m:\u001b[0m\u001b[0;34m\u001b[0m\u001b[0;34m\u001b[0m\u001b[0m\n\u001b[0;32m--> 436\u001b[0;31m             \u001b[0;32mraise\u001b[0m \u001b[0mInvalidURL\u001b[0m\u001b[0;34m(\u001b[0m\u001b[0;34m*\u001b[0m\u001b[0me\u001b[0m\u001b[0;34m.\u001b[0m\u001b[0margs\u001b[0m\u001b[0;34m)\u001b[0m\u001b[0;34m\u001b[0m\u001b[0;34m\u001b[0m\u001b[0m\n\u001b[0m\u001b[1;32m    437\u001b[0m \u001b[0;34m\u001b[0m\u001b[0m\n\u001b[1;32m    438\u001b[0m         \u001b[0;32mif\u001b[0m \u001b[0;32mnot\u001b[0m \u001b[0mscheme\u001b[0m\u001b[0;34m:\u001b[0m\u001b[0;34m\u001b[0m\u001b[0;34m\u001b[0m\u001b[0m\n",
            "\u001b[0;31mInvalidURL\u001b[0m: Failed to parse: <Response [200]>"
          ]
        }
      ],
      "source": [
        "webpage = requests.get(request,headers = HEADERS)"
      ]
    },
    {
      "cell_type": "code",
      "execution_count": null,
      "id": "03453c55",
      "metadata": {
        "id": "03453c55"
      },
      "outputs": [],
      "source": [
        "import requests\n",
        "from bs4 import BeautifulSoup\n",
        "\n",
        "url = \"https://www.amazon.com/s/ref=nb_sb_noss?url=search-alias%3Daps&field-keywords=gaming\"\n",
        "HEADERS = {'User-Agent': 'Mozilla/5.0 (X11; Linux x86_64) AppleWebKit/537.36 (KHTML, like Gecko) Chrome/120.0.0.0 Safari/537.36'}\n",
        "\n",
        "webpage = requests.get(url, headers=HEADERS)\n",
        "\n",
        "# Now you can proceed with using 'webpage' for further processing\n"
      ]
    },
    {
      "cell_type": "code",
      "execution_count": null,
      "id": "478dcfd1",
      "metadata": {
        "id": "478dcfd1"
      },
      "outputs": [],
      "source": [
        "webpage"
      ]
    },
    {
      "cell_type": "code",
      "execution_count": null,
      "id": "717a20e1",
      "metadata": {
        "id": "717a20e1"
      },
      "outputs": [],
      "source": [
        "import bs4\n",
        "from bs4 import BeautifulSoup"
      ]
    },
    {
      "cell_type": "code",
      "execution_count": null,
      "id": "5fb63f8b",
      "metadata": {
        "id": "5fb63f8b"
      },
      "outputs": [],
      "source": [
        "soup = bs4.BeautifulSoup(request.text,'lxml')"
      ]
    },
    {
      "cell_type": "code",
      "execution_count": null,
      "id": "6e4432c2",
      "metadata": {
        "id": "6e4432c2"
      },
      "outputs": [],
      "source": [
        "soup"
      ]
    },
    {
      "cell_type": "code",
      "execution_count": null,
      "id": "e2dc2d63",
      "metadata": {
        "id": "e2dc2d63"
      },
      "outputs": [],
      "source": [
        "import requests\n",
        "from bs4 import BeautifulSoup\n",
        "\n",
        "url = \"https://www.amazon.in/s?k=gaming&crid=12C1K6O7AJ6I8&sprefix=gaming%2Caps%2C254&ref=nb_sb_noss_1\"\n",
        "headers = {\n",
        "  'User-Agent': 'Mozilla/5.0 (X11; Linux x86_64) AppleWebKit/537.36 (KHTML, like Gecko) Chrome/120.0.0.0 Safari/537.36',\n",
        "  'Accept': 'text/html,application/xhtml+xml,application/xml;q=0.9,image/avif,image/webp,/;q=0.8',\n",
        "  'Accept-Language': 'en-US,en;q=0.5',\n",
        "  'Accept-Encoding': 'gzip, deflate, br',\n",
        "  'Connection': 'keep-alive',\n",
        "  'Cookie': 'session-id=260-0003167-6611645; session-id-time=2082787201l; i18n-prefs=INR; csm-hit=tb:s-BJSHAPXX6GXR5B9DB71Q|1708691871626&t:1708691873714&adb:adblkno; ubid-acbin=258-4520566-3761137; session-token=GKGzdaNykDXe57FMdjhhXogsvtxmsza+yu7jhZxJBZG1rhH1jtypga8G1mobRAglQw/wVEMwud1DSyG3lgSU4GJ90GJd07fFFGsLXeQOrDktq0Aa9ed35l5Z7K4sFsKHhh8C2toZiCGKYXEQ9ak+/Rn6ufHn4FtdruF/P9YbMepshxFgq3lnn4xB9gHZCfdW+CQQzyWp677bszmO4h3KTSN+p6fnykqXlHWPTvPAYUN89owOcaUDKo2Kab9E6NfV5reBE0bTr40f3wUchiZ1WaLp7v3IWgcTGoHzbBj4z0xJoTBkIONgOs/sAQ6oYgzJspXRuFekNwGZ0eGVVbmnbuWpLEXrofRr',\n",
        "  'Upgrade-Insecure-Requests': '1',\n",
        "  'Sec-Fetch-Dest': 'document',\n",
        "  'Sec-Fetch-Mode': 'navigate',\n",
        "  'Sec-Fetch-Site': 'cross-site',\n",
        "  'Pragma': 'no-cache',\n",
        "  'Cache-Control': 'no-cache'\n",
        "}\n",
        "response = requests.request(\"GET\", url, headers=headers)\n",
        "\n",
        "print(response)\n",
        "if response.status_code == 200:\n",
        "    # Parse the content of the page with BeautifulSoup\n",
        "    soup = BeautifulSoup(response.content, 'html.parser')\n",
        "\n",
        "    # Now you can use BeautifulSoup to extract the information you need\n",
        "    # For example, finding all the titles of the products\n",
        "    titles = soup.find_all(\"span\", class=\"a-size-medium a-color-base a-text-normal\")\n",
        "\n",
        "    for title in titles:\n",
        "        print(title.text.strip())\n",
        "else:\n",
        "    print(\"Failed to retrieve the webpage\")"
      ]
    },
    {
      "cell_type": "code",
      "execution_count": null,
      "id": "954dae7b",
      "metadata": {
        "id": "954dae7b"
      },
      "outputs": [],
      "source": [
        "response = requests.request(\"GET\", url, headers=headers)\n",
        "\n",
        "print(response)\n"
      ]
    },
    {
      "cell_type": "code",
      "execution_count": null,
      "id": "ffd53584",
      "metadata": {
        "id": "ffd53584"
      },
      "outputs": [],
      "source": [
        "if response.status_code == 200:\n",
        "    # Parse the content of the page with BeautifulSoup\n",
        "    soup = BeautifulSoup(response.content, 'html.parser')\n",
        "\n",
        "    # Now you can use BeautifulSoup to extract the information you need\n",
        "    # For example, finding all the titles of the products\n",
        "    titles = soup.find_all(\"span\", class=\"a-size-medium a-color-base a-text-normal\")\n",
        "\n",
        "    for title in titles:\n",
        "        print(title.text.strip())\n",
        "else:\n",
        "    print(\"Failed to retrieve the webpage\")"
      ]
    },
    {
      "cell_type": "code",
      "execution_count": null,
      "id": "b144ec7e",
      "metadata": {
        "id": "b144ec7e"
      },
      "outputs": [],
      "source": [
        "import requests\n",
        "from bs4 import BeautifulSoup\n",
        "\n",
        "url = \"https://www.amazon.in/s?k=gaming&crid=12C1K6O7AJ6I8&sprefix=gaming%2Caps%2C254&ref=nb_sb_noss_1\"\n",
        "headers = {\n",
        "  'User-Agent': 'Mozilla/5.0 (X11; Linux x86_64) AppleWebKit/537.36 (KHTML, like Gecko) Chrome/120.0.0.0 Safari/537.36',\n",
        "  'Accept': 'text/html,application/xhtml+xml,application/xml;q=0.9,image/avif,image/webp,/;q=0.8',\n",
        "  'Accept-Language': 'en-US,en;q=0.5',\n",
        "  'Accept-Encoding': 'gzip, deflate, br',\n",
        "  'Connection': 'keep-alive',\n",
        "  'Cookie': 'session-id=260-0003167-6611645; session-id-time=2082787201l; i18n-prefs=INR; csm-hit=tb:s-BJSHAPXX6GXR5B9DB71Q|1708691871626&t:1708691873714&adb:adblkno; ubid-acbin=258-4520566-3761137; session-token=GKGzdaNykDXe57FMdjhhXogsvtxmsza+yu7jhZxJBZG1rhH1jtypga8G1mobRAglQw/wVEMwud1DSyG3lgSU4GJ90GJd07fFFGsLXeQOrDktq0Aa9ed35l5Z7K4sFsKHhh8C2toZiCGKYXEQ9ak+/Rn6ufHn4FtdruF/P9YbMepshxFgq3lnn4xB9gHZCfdW+CQQzyWp677bszmO4h3KTSN+p6fnykqXlHWPTvPAYUN89owOcaUDKo2Kab9E6NfV5reBE0bTr40f3wUchiZ1WaLp7v3IWgcTGoHzbBj4z0xJoTBkIONgOs/sAQ6oYgzJspXRuFekNwGZ0eGVVbmnbuWpLEXrofRr',\n",
        "  'Upgrade-Insecure-Requests': '1',\n",
        "  'Sec-Fetch-Dest': 'document',\n",
        "  'Sec-Fetch-Mode': 'navigate',\n",
        "  'Sec-Fetch-Site': 'cross-site',\n",
        "  'Pragma': 'no-cache',\n",
        "  'Cache-Control': 'no-cache'\n",
        "}\n",
        "response = requests.request(\"GET\", url, headers=headers)\n",
        "\n",
        "if response.status_code == 200:\n",
        "    # Parse the content of the page with BeautifulSoup\n",
        "    soup = BeautifulSoup(response.content, 'html.parser')\n",
        "\n",
        "    # Now you can use BeautifulSoup to extract the information you need\n",
        "    # For example, finding all the titles of the products\n",
        "    titles = soup.find_all(\"span\", {\"class\": \"a-size-medium a-color-base a-text-normal\"})\n",
        "\n",
        "    for title in titles:\n",
        "        print(title.text.strip())\n",
        "else:\n",
        "    print(\"Failed to retrieve the webpage\")\n"
      ]
    },
    {
      "cell_type": "code",
      "execution_count": null,
      "id": "5bc46dd4",
      "metadata": {
        "id": "5bc46dd4"
      },
      "outputs": [],
      "source": [
        "request1 = \"https://www.amazon.in/s?k=phone&crid=1G2OUYXN00S6T&sprefix=pho%2Caps%2C231&ref=nb_sb_ss_ts-doa-p_1_3\""
      ]
    },
    {
      "cell_type": "code",
      "execution_count": null,
      "id": "d3ef14f2",
      "metadata": {
        "id": "d3ef14f2"
      },
      "outputs": [],
      "source": [
        "webpage2 = requests.get(request)"
      ]
    },
    {
      "cell_type": "code",
      "execution_count": null,
      "id": "6c0d7af9",
      "metadata": {
        "id": "6c0d7af9"
      },
      "outputs": [],
      "source": [
        "request1 = requests.get(\"https://www.imdb.com/chart/top/\")"
      ]
    },
    {
      "cell_type": "code",
      "execution_count": null,
      "id": "d32bc0a2",
      "metadata": {
        "id": "d32bc0a2"
      },
      "outputs": [],
      "source": [
        "print(request1)"
      ]
    },
    {
      "cell_type": "code",
      "execution_count": null,
      "id": "24d7d545",
      "metadata": {
        "id": "24d7d545"
      },
      "outputs": [],
      "source": [
        "url = \"https://www.imdb.com/chart/top/\"\n",
        "headers = {\n",
        "  'User-Agent': 'Mozilla/5.0 (X11; Linux x86_64) AppleWebKit/537.36 (KHTML, like Gecko) Chrome/120.0.0.0 Safari/537.36',\n",
        "  'Accept': 'text/html,application/xhtml+xml,application/xml;q=0.9,image/avif,image/webp,/;q=0.8',\n",
        "  'Accept-Language': 'en-US,en;q=0.5',\n",
        "  'Accept-Encoding': 'gzip, deflate, br',\n",
        "  'Connection': 'keep-alive',\n",
        "  'Cookie': 'session-id=260-0003167-6611645; session-id-time=2082787201l; i18n-prefs=INR; csm-hit=tb:s-BJSHAPXX6GXR5B9DB71Q|1708691871626&t:1708691873714&adb:adblkno; ubid-acbin=258-4520566-3761137; session-token=GKGzdaNykDXe57FMdjhhXogsvtxmsza+yu7jhZxJBZG1rhH1jtypga8G1mobRAglQw/wVEMwud1DSyG3lgSU4GJ90GJd07fFFGsLXeQOrDktq0Aa9ed35l5Z7K4sFsKHhh8C2toZiCGKYXEQ9ak+/Rn6ufHn4FtdruF/P9YbMepshxFgq3lnn4xB9gHZCfdW+CQQzyWp677bszmO4h3KTSN+p6fnykqXlHWPTvPAYUN89owOcaUDKo2Kab9E6NfV5reBE0bTr40f3wUchiZ1WaLp7v3IWgcTGoHzbBj4z0xJoTBkIONgOs/sAQ6oYgzJspXRuFekNwGZ0eGVVbmnbuWpLEXrofRr',\n",
        "  'Upgrade-Insecure-Requests': '1',\n",
        "  'Sec-Fetch-Dest': 'document',\n",
        "  'Sec-Fetch-Mode': 'navigate',\n",
        "  'Sec-Fetch-Site': 'cross-site',\n",
        "  'Pragma': 'no-cache',\n",
        "  'Cache-Control': 'no-cache'\n",
        "}\n",
        "response = requests.request(\"GET\", url, headers=headers)\n",
        "print(response)"
      ]
    },
    {
      "cell_type": "code",
      "execution_count": null,
      "id": "c865953b",
      "metadata": {
        "id": "c865953b"
      },
      "outputs": [],
      "source": [
        "soup = bs4.BeautifulSoup(response.text,'lxml')"
      ]
    },
    {
      "cell_type": "code",
      "execution_count": null,
      "id": "3860fc1a",
      "metadata": {
        "id": "3860fc1a"
      },
      "outputs": [],
      "source": [
        "soup"
      ]
    },
    {
      "cell_type": "code",
      "execution_count": null,
      "id": "faf382d1",
      "metadata": {
        "id": "faf382d1"
      },
      "outputs": [],
      "source": [
        "movie = soup.find('li',class_=\"ipc-metadata-list-summary-item sc-1364e729-0 caNpAE cli-parent\")"
      ]
    },
    {
      "cell_type": "code",
      "execution_count": null,
      "id": "da6159d1",
      "metadata": {
        "id": "da6159d1"
      },
      "outputs": [],
      "source": [
        "movie_name = movie.find('h3',class_ =\"ipc-title__text\").text.replace(' ','')"
      ]
    },
    {
      "cell_type": "code",
      "execution_count": null,
      "id": "8b130560",
      "metadata": {
        "id": "8b130560"
      },
      "outputs": [],
      "source": [
        "movie_name"
      ]
    },
    {
      "cell_type": "code",
      "execution_count": null,
      "id": "010ef5d8",
      "metadata": {
        "id": "010ef5d8"
      },
      "outputs": [],
      "source": [
        "movie_year = movie.find('span',class_ = \"sc-be6f1408-8 fcCUPU cli-title-metadata-item\").text"
      ]
    },
    {
      "cell_type": "code",
      "execution_count": null,
      "id": "bef52f37",
      "metadata": {
        "id": "bef52f37"
      },
      "outputs": [],
      "source": [
        "movie_year"
      ]
    },
    {
      "cell_type": "code",
      "execution_count": null,
      "id": "655864bf",
      "metadata": {
        "id": "655864bf"
      },
      "outputs": [],
      "source": [
        "movie_rating_element = movie.find('span',class_ = \"ipc-rating-star--imdb\")"
      ]
    },
    {
      "cell_type": "code",
      "execution_count": null,
      "id": "156b9889",
      "metadata": {
        "id": "156b9889"
      },
      "outputs": [],
      "source": [
        "movie_rating_label = movie_rating_element['aria-label']"
      ]
    },
    {
      "cell_type": "code",
      "execution_count": null,
      "id": "a26fc408",
      "metadata": {
        "id": "a26fc408"
      },
      "outputs": [],
      "source": [
        "movie_rating = movie_rating_label.split(':')[-1].strip()"
      ]
    },
    {
      "cell_type": "code",
      "execution_count": null,
      "id": "7ba5c323",
      "metadata": {
        "id": "7ba5c323"
      },
      "outputs": [],
      "source": [
        "movie_rating"
      ]
    },
    {
      "cell_type": "code",
      "execution_count": null,
      "id": "7a30055e",
      "metadata": {
        "id": "7a30055e"
      },
      "outputs": [],
      "source": [
        "import os\n",
        "import requests\n",
        "import bs4\n",
        "import time\n",
        "\n",
        "print(\"Enter the movie rating\")\n",
        "unfamiliar_skill = input('> ')\n",
        "print(f'Filtering out {unfamiliar_skill}')  # Filtering\n",
        "\n",
        "def find_jobs():\n",
        "    request = requests.get(\"https://www.timesjobs.com/candidate/job-search.html?searchType=personalizedSearch&from=submit&txtKeywords=python&txtLocation=\")\n",
        "    soup = bs4.BeautifulSoup(request.text, 'lxml')\n",
        "    jobs = soup.find_all('li', class_='clearfix job-bx wht-shd-bx')\n",
        "    for index, job in enumerate(jobs):\n",
        "        posted_time = job.find('span', class_=\"sim-posted\").span.text  # Applying condition\n",
        "        if 'few' in posted_time:\n",
        "            company_name = job.find('h3', class_='joblist-comp-name').text.strip()\n",
        "            skills = job.find('span', class_=\"srp-skills\").text.strip()\n",
        "            more_info = job.header.h2.a['href']\n",
        "            if unfamiliar_skill not in skills:\n",
        "                file_path = f'posts/{index}.txt'\n",
        "                try:\n",
        "                    # Ensure directory exists\n",
        "                    os.makedirs('posts', exist_ok=True)\n",
        "                    # Write to file\n",
        "                    with open(file_path, 'w') as f:\n",
        "                        f.write(f\"Company Name: {company_name}\\n\")\n",
        "                        f.write(f\"Skills: {skills}\\n\")\n",
        "                        f.write(f\"More Info: {more_info}\\n\")\n",
        "                    print(f'File saved: {file_path}')\n",
        "                except Exception as e:\n",
        "                    print(f\"An error occurred while writing to {file_path}: {e}\")\n",
        "\n",
        "if __name__ == '__main__':\n",
        "    while True:\n",
        "        find_jobs()\n",
        "        time_wait = 10\n",
        "        print(f'Waiting time: {time_wait} minutes')\n",
        "        time.sleep(time_wait * 60)\n"
      ]
    },
    {
      "cell_type": "code",
      "execution_count": null,
      "id": "997a17de",
      "metadata": {
        "id": "997a17de"
      },
      "outputs": [],
      "source": [
        "# # Assuming you've already imported BeautifulSoup and made the appropriate web request\n",
        "\n",
        "# # Assuming \"movie\" is your BeautifulSoup element\n",
        "# movie_rating_element = movie.find('span', class_=\"ipc-rating-star--imdb\")\n",
        "# full_aria_label = movie_rating_element['aria-label']\n",
        "\n",
        "# # Split the full aria label by the colon and get the second part\n",
        "# rating_part = full_aria_label.split(':')[-1].strip()\n",
        "\n",
        "# print(rating_part)\n"
      ]
    },
    {
      "cell_type": "code",
      "execution_count": null,
      "id": "f22d6fc5",
      "metadata": {
        "id": "f22d6fc5"
      },
      "outputs": [],
      "source": [
        "request2 = requests.get(\"https://www.linkedin.com/jobs/search/?currentJobId=3836845569&keywords=web&origin=JOBS_HOME_KEYWORD_AUTOCOMPLETE&refresh=true\")"
      ]
    },
    {
      "cell_type": "code",
      "execution_count": null,
      "id": "391dea5c",
      "metadata": {
        "id": "391dea5c"
      },
      "outputs": [],
      "source": [
        "print(request2)"
      ]
    },
    {
      "cell_type": "code",
      "execution_count": null,
      "id": "e0383399",
      "metadata": {
        "id": "e0383399"
      },
      "outputs": [],
      "source": []
    }
  ],
  "metadata": {
    "kernelspec": {
      "display_name": "Python 3 (ipykernel)",
      "language": "python",
      "name": "python3"
    },
    "language_info": {
      "codemirror_mode": {
        "name": "ipython",
        "version": 3
      },
      "file_extension": ".py",
      "mimetype": "text/x-python",
      "name": "python",
      "nbconvert_exporter": "python",
      "pygments_lexer": "ipython3",
      "version": "3.11.4"
    },
    "colab": {
      "provenance": [],
      "include_colab_link": true
    }
  },
  "nbformat": 4,
  "nbformat_minor": 5
}